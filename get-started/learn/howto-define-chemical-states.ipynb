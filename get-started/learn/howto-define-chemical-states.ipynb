{
 "cells": [
  {
   "cell_type": "markdown",
   "metadata": {},
   "source": [
    "# How to create and define chemical states\n",
    "\n",
    "After learning how to define chemical systems and create a {{ChemicalSystem}} object, it is time to create some chemical states. In your applications, you will most often deal with a single {{ChemicalSystem}} object and multiple {{ChemicalState}} objects in which the system's temperature, pressure, and species amounts are specified.\n",
    "\n",
    "Let's check the following simple example, in which a chemical system is constructed with a gaseous phase only."
   ]
  },
  {
   "cell_type": "code",
   "execution_count": 1,
   "metadata": {},
   "outputs": [],
   "source": [
    "from reaktoro import *\n",
    "\n",
    "db = NasaDatabase(\"nasa-cea\")\n",
    "\n",
    "gases = GaseousPhase(\"CO2 O2 H2 H2O CH4 CO\")\n",
    "\n",
    "system = ChemicalSystem(db, gases)"
   ]
  },
  {
   "cell_type": "markdown",
   "metadata": {},
   "source": [
    "We can now create a {{ChemicalState}} object to represent the state of the system: "
   ]
  },
  {
   "cell_type": "code",
   "execution_count": 4,
   "metadata": {},
   "outputs": [],
   "source": [
    "state = ChemicalState(system)\n",
    "state.temperature(1000, \"celsius\")\n",
    "state.pressure(10, \"MPa\")\n",
    "state.set(\"CO2\", 0.1, \"mol\")\n",
    "state.set(\"O2\" , 0.2, \"mol\")\n",
    "state.set(\"H2\" , 0.3, \"mol\")\n",
    "state.set(\"H2O\", 0.4, \"mol\")\n",
    "state.set(\"CH4\", 0.5, \"mol\")\n",
    "state.set(\"CO\" , 0.6, \"mol\")"
   ]
  },
  {
   "cell_type": "markdown",
   "metadata": {},
   "source": [
    "We can print this chemical state to have an idea of what information it contains: "
   ]
  },
  {
   "cell_type": "code",
   "execution_count": 5,
   "metadata": {},
   "outputs": [
    {
     "name": "stdout",
     "output_type": "stream",
     "text": [
      "+-----------------+---------+------+\n",
      "| Property        |   Value | Unit |\n",
      "+-----------------+---------+------+\n",
      "| Temperature     | 1273.15 |    K |\n",
      "| Pressure        |   1e+07 |   Pa |\n",
      "| Charge:         |       0 |  mol |\n",
      "| Element Amount: |         |      |\n",
      "| :: H            |     3.4 |  mol |\n",
      "| :: C            |     1.2 |  mol |\n",
      "| :: O            |     1.6 |  mol |\n",
      "| Species Amount: |         |      |\n",
      "| :: CO2          |     0.1 |  mol |\n",
      "| :: O2           |     0.2 |  mol |\n",
      "| :: H2           |     0.3 |  mol |\n",
      "| :: H2O          |     0.4 |  mol |\n",
      "| :: CH4          |     0.5 |  mol |\n",
      "| :: CO           |     0.6 |  mol |\n",
      "+-----------------+---------+------+\n"
     ]
    }
   ],
   "source": [
    "print(state)"
   ]
  },
  {
   "cell_type": "markdown",
   "metadata": {},
   "source": [
    "From the table above we see that {{ChemicalState}} objects do not have thermodynamic properties of the system; only temperature, pressure, species amounts, element amounts, and the electric charge. We will learn in the next guide how to evaluate thermodynamic and chemical properties of the system such as Gibbs energy, enthalpy, volume, heat capacities, species activities, etc.\n",
    "\n"
   ]
  },
  {
   "cell_type": "code",
   "execution_count": null,
   "metadata": {},
   "outputs": [],
   "source": []
  }
 ],
 "metadata": {
  "interpreter": {
   "hash": "e4e8b2f3ae27709963f14fd23a6560d362beea55eaec742263828e04d814e23c"
  },
  "kernelspec": {
   "display_name": "Python 3.9.7 64-bit ('reaktoro-jupyter-book': conda)",
   "language": "python",
   "name": "python3"
  },
  "language_info": {
   "codemirror_mode": {
    "name": "ipython",
    "version": 3
   },
   "file_extension": ".py",
   "mimetype": "text/x-python",
   "name": "python",
   "nbconvert_exporter": "python",
   "pygments_lexer": "ipython3",
   "version": "3.9.7"
  },
  "orig_nbformat": 4
 },
 "nbformat": 4,
 "nbformat_minor": 2
}
