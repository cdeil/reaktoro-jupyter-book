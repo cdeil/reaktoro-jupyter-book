{
 "cells": [
  {
   "cell_type": "markdown",
   "metadata": {},
   "source": [
    "# Ion exchange in dune sand and porewater\n",
    "\n",
    "<p class=\"acknowledgement\">Written by Svetlana Kyas (ETH Zurich) on Mar 10th, 2022</p>\n",
    "\n",
    "With this tutorial, we model the ion exchange of the Dune sand and porewater. We consider 6 g of Dune sand with the cation exchange capacity CEC = 10 meq/kg, which results in 0.06 mol of the exchanger X (60 meq/L, default 1L).\n",
    "\n",
    "We aim to reproduce the results of the PHREEQC script below.\n",
    "\n",
    "```text\n",
    "DATABASE ../database/phreeqc.dat\n",
    "TITLE Exchange in Dune sand\n",
    "\n",
    "SOLUTION 1\n",
    "pressure 1.0\n",
    "temperature 25.0\n",
    "Na 1.10006\n",
    "Mg 0.48\n",
    "Ca 1.9\n",
    "\n",
    "EXCHANGE 1\n",
    "X 0.06\t#moles\n",
    "-equilibrate 1\n",
    "```\n",
    "\n",
    "We start with setting up the chemical system and other means of modelling ion exchange in Reaktoro framework. For that, we use the PHREEQC database `phreeqc.dat` containing ion exchange species, their corresponding reactions, and necessary parameters."
   ]
  },
  {
   "cell_type": "code",
   "execution_count": 1,
   "metadata": {},
   "outputs": [
    {
     "data": {
      "text/plain": [
       "<reaktoro.reaktoro4py.AqueousPhase at 0x7fe23d29f970>"
      ]
     },
     "execution_count": 1,
     "metadata": {},
     "output_type": "execute_result"
    }
   ],
   "source": [
    "from reaktoro import *\n",
    "import numpy as np\n",
    "\n",
    "db = PhreeqcDatabase(\"phreeqc.dat\")\n",
    "\n",
    "solution = AqueousPhase(speciate(\"H O C Ca Na Mg Cl\"))\n",
    "solution.setActivityModel(chain(\n",
    "    ActivityModelHKF(),\n",
    "    ActivityModelDrummond(\"CO2\")\n",
    "))"
   ]
  },
  {
   "cell_type": "markdown",
   "metadata": {},
   "source": [
    "The ion exchange phase is modelled by the {{IonExchangePhase}} class. We select only three ion exchange species, i.e., NaX, CaX{{_2}}, and MgX{{_2}}, that can be formed based on the porewater content. We use the Gaines-Thomas activity model (considering equivalence fractions as activities for NaX, CaX{{_2}}, and MgX{{_2}})."
   ]
  },
  {
   "cell_type": "code",
   "execution_count": 2,
   "metadata": {},
   "outputs": [],
   "source": [
    "exchange = IonExchangePhase(\"NaX CaX2 MgX2\")\n",
    "exchange.setActivityModel(ActivityModelIonExchangeGainesThomas())\n",
    "\n",
    "system = ChemicalSystem(db, solution, exchange)\n",
    "\n",
    "# Define the equilibrium solver\n",
    "solver = EquilibriumSolver(system)"
   ]
  },
  {
   "cell_type": "markdown",
   "metadata": {},
   "source": [
    "Below, we define the initial chemical state for the equilibrium ion exchange simulations of the Dune sand and porewater for the fixed temperature and pressure.\n",
    "\n",
    "```{note}\n",
    "We note that the solution is scaled by 1e6 to match the equilibration of the exchanger happening in the PHREEQC script.\n",
    "This way we imitate an unlimited source of brine in the equilibrium calculations.\n",
    "```\n",
    "\n",
    "```{note}\n",
    "The current implementation of the ion exchange assumes that the exchanger (X, in this case) is always occupied by some ions.\n",
    "As the default ion, we consider Na<sup>+</sup> as all the `logk` parameters of exchange species in `phreeqc.dat` are\n",
    "calculated in relation to Na<sup>+</sup> + X<sup>-</sup> = NaX reaction.\n",
    "```"
   ]
  },
  {
   "cell_type": "code",
   "execution_count": 3,
   "metadata": {},
   "outputs": [],
   "source": [
    "# Define temperature and pressure\n",
    "T = 25.0 # temperature in celsius\n",
    "P = 1.0  # pressure in bar\n",
    "\n",
    "# Define initial equilibrium state\n",
    "state = ChemicalState(system)\n",
    "state.setTemperature(T, \"celsius\")\n",
    "state.setPressure(P, \"bar\")\n",
    "# Scale solution recipe to match the values of the PHREEQC examples\n",
    "state.setSpeciesMass(\"H2O\"   , 1.e6, \"kg\")\n",
    "state.setSpeciesAmount(\"Na+\" , 1.10, \"kmol\")\n",
    "state.setSpeciesAmount(\"Mg+2\", 0.48, \"kmol\")\n",
    "state.setSpeciesAmount(\"Ca+2\", 1.90, \"kmol\")\n",
    "# Set the number of exchange assuming that it is completely occupied by sodium\n",
    "state.setSpeciesAmount(\"NaX\" , 0.06, \"mol\")"
   ]
  },
  {
   "cell_type": "markdown",
   "metadata": {},
   "source": [
    "We expect the following set of ion exchange reactions happening between porewater and exchanger site NaX:\n",
    "\n",
    "$$\n",
    "\\begin{alignat}{4}\n",
    "\\tfrac{1}{2} {\\rm Ca^{+2}} + {\\rm NaX} & \\rightleftharpoons {\\rm Na}^+ + \\tfrac{1}{2} {\\rm CaX}_2\\\\\n",
    "\\tfrac{1}{2} {\\rm Mg^{+2}} + {\\rm NaX} & \\rightleftharpoons {\\rm Na}^+ + \\tfrac{1}{2} {\\rm MgX}_2\\\\\n",
    "\\end{alignat}\n",
    "$$\n",
    "\n",
    "After the chemical state is provided, we can define the equilibrium solver and run the Gibbs energy minimization with the given initial state."
   ]
  },
  {
   "cell_type": "code",
   "execution_count": 4,
   "metadata": {},
   "outputs": [
    {
     "data": {
      "text/plain": [
       "<reaktoro.reaktoro4py.EquilibriumResult at 0x7fe23d26e270>"
      ]
     },
     "execution_count": 4,
     "metadata": {},
     "output_type": "execute_result"
    }
   ],
   "source": [
    "solver = EquilibriumSolver(system)\n",
    "solver.solve(state)"
   ]
  },
  {
   "cell_type": "markdown",
   "metadata": {},
   "source": [
    "The properties of resulting chemical state can be inspected by printing the state itself:"
   ]
  },
  {
   "cell_type": "code",
   "execution_count": 5,
   "metadata": {},
   "outputs": [
    {
     "name": "stdout",
     "output_type": "stream",
     "text": [
      "+-----------------+------------+------+\n",
      "| Property        |      Value | Unit |\n",
      "+-----------------+------------+------+\n",
      "| Temperature     |   298.1500 |    K |\n",
      "| Pressure        |     1.0000 |  bar |\n",
      "| Charge:         | 5.8600e+03 |  mol |\n",
      "| Element Amount: |            |      |\n",
      "| :: X            | 6.0000e-02 |  mol |\n",
      "| :: H            | 1.1101e+08 |  mol |\n",
      "| :: C            | 1.2000e-15 |  mol |\n",
      "| :: O            | 5.5506e+07 |  mol |\n",
      "| :: Na           | 1.1001e+03 |  mol |\n",
      "| :: Mg           | 4.8000e+02 |  mol |\n",
      "| :: Cl           | 1.0000e-16 |  mol |\n",
      "| :: Ca           | 1.9000e+03 |  mol |\n",
      "| Species Amount: |            |      |\n",
      "| :: CO3-2        | 1.0000e-16 |  mol |\n",
      "| :: H+           | 1.1653e-01 |  mol |\n",
      "| :: H2O          | 5.5506e+07 |  mol |\n",
      "| :: CO2          | 1.0000e-16 |  mol |\n",
      "| :: (CO2)2       | 1.0000e-16 |  mol |\n",
      "| :: HCO3-        | 1.0000e-16 |  mol |\n",
      "| :: CH4          | 1.0000e-16 |  mol |\n",
      "| :: Ca+2         | 1.9000e+03 |  mol |\n",
      "| :: CaCO3        | 1.0000e-16 |  mol |\n",
      "| :: CaHCO3+      | 1.0000e-16 |  mol |\n",
      "| :: CaOH+        | 2.3176e-03 |  mol |\n",
      "| :: Cl-          | 1.0000e-16 |  mol |\n",
      "| :: H2           | 1.0000e-16 |  mol |\n",
      "| :: Mg+2         | 4.7998e+02 |  mol |\n",
      "| :: MgCO3        | 1.0000e-16 |  mol |\n",
      "| :: MgHCO3+      | 1.0000e-16 |  mol |\n",
      "| :: MgOH+        | 1.2799e-02 |  mol |\n",
      "| :: Na+          | 1.1001e+03 |  mol |\n",
      "| :: NaCO3-       | 1.0000e-16 |  mol |\n",
      "| :: NaHCO3       | 1.0000e-16 |  mol |\n",
      "| :: OH-          | 1.0141e-01 |  mol |\n",
      "| :: NaOH         | 9.5306e-15 |  mol |\n",
      "| :: O2           | 1.0000e-16 |  mol |\n",
      "| :: NaX          | 5.5828e-04 |  mol |\n",
      "| :: CaX2         | 2.5651e-02 |  mol |\n",
      "| :: MgX2         | 4.0703e-03 |  mol |\n",
      "+-----------------+------------+------+\n"
     ]
    }
   ],
   "source": [
    "print(state)"
   ]
  },
  {
   "cell_type": "markdown",
   "metadata": {},
   "source": [
    "Additionally, we can study the properties of the brine after the ion exchange has been performed. For this purpose, the {{AqueousProps}} class can be used."
   ]
  },
  {
   "cell_type": "code",
   "execution_count": 6,
   "metadata": {},
   "outputs": [
    {
     "name": "stdout",
     "output_type": "stream",
     "text": [
      "I  = 0.005310 mol/kgw\n",
      "pH = 6.966945\n",
      "pE = -3.999323\n"
     ]
    }
   ],
   "source": [
    "aqprops = AqueousProps(state)\n",
    "print(\"I  = %f mol/kgw\" % float(aqprops.ionicStrength()))\n",
    "print(\"pH = %f\" % float(aqprops.pH()))\n",
    "print(\"pE = %f\" % float(aqprops.pE()))\n"
   ]
  },
  {
   "cell_type": "markdown",
   "metadata": {},
   "source": [
    "To evaluate the ion exchange properties of species NaX, CaX{{_2}}, and MgX{{_2}}, the class {{IonExchangeProps}} can be used. It can be initialized via the instance of the {{ChemicalState}} class."
   ]
  },
  {
   "cell_type": "code",
   "execution_count": 7,
   "metadata": {},
   "outputs": [
    {
     "name": "stdout",
     "output_type": "stream",
     "text": [
      "+--------------------------------------+------------+------+\n",
      "| Property                             |      Value | Unit |\n",
      "+--------------------------------------+------------+------+\n",
      "| Element Amounts:                     |            |      |\n",
      "| :: X                                 | 6.0000e-02 |  mol |\n",
      "| :: Na                                | 5.5828e-04 |  mol |\n",
      "| :: Mg                                | 4.0703e-03 |  mol |\n",
      "| :: Ca                                | 2.5651e-02 |  mol |\n",
      "| Species Amounts:                     |            |      |\n",
      "| :: NaX                               | 5.5828e-04 |  mol |\n",
      "| :: CaX2                              | 2.5651e-02 |  mol |\n",
      "| :: MgX2                              | 4.0703e-03 |  mol |\n",
      "| Equivalents:                         |            |      |\n",
      "| :: NaX                               |     0.0006 |   eq |\n",
      "| :: CaX2                              |     0.0513 |   eq |\n",
      "| :: MgX2                              |     0.0081 |   eq |\n",
      "| Equivalent Fractions:                |            |      |\n",
      "| :: NaX                               |     0.0093 |      |\n",
      "| :: CaX2                              |     0.8550 |      |\n",
      "| :: MgX2                              |     0.1357 |      |\n",
      "| Activity Coefficients (log base 10): |            |      |\n",
      "| :: NaX                               |    -0.0335 |      |\n",
      "| :: CaX2                              |    -0.1322 |      |\n",
      "| :: MgX2                              |    -0.1306 |      |\n",
      "+--------------------------------------+------------+------+\n"
     ]
    }
   ],
   "source": [
    "exprops = IonExchangeProps(state)\n",
    "print(exprops)"
   ]
  }
 ],
 "metadata": {
  "kernelspec": {
   "display_name": "Python 3 (ipykernel)",
   "language": "python",
   "name": "python3"
  },
  "language_info": {
   "codemirror_mode": {
    "name": "ipython",
    "version": 3
   },
   "file_extension": ".py",
   "mimetype": "text/x-python",
   "name": "python",
   "nbconvert_exporter": "python",
   "pygments_lexer": "ipython3",
   "version": "3.9.7"
  }
 },
 "nbformat": 4,
 "nbformat_minor": 1
}