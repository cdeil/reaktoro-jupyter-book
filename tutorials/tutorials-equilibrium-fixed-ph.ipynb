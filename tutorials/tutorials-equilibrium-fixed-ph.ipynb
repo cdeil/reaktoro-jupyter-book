{
 "cells": [
  {
   "cell_type": "markdown",
   "metadata": {},
   "source": [
    "# Chemical equilibrium with fixed pH\n"
   ]
  },
  {
   "cell_type": "markdown",
   "metadata": {},
   "source": [
    "In this tutorial we demonstrate how chemical equilibrium calculations with\n",
    "fixed pH value can be accomplished in Reaktoro.\n",
    "\n",
    "We'll consider a relatively simple chemical description of an aqueous solution.\n",
    "This will permit us to describe the concepts and implications of such pH\n",
    "constraint on the computed equilibrium state.\n",
    "\n",
    "Let's then create a chemical system with just a single aqueous phase containing\n",
    "some selected species (instead of all possible species in the database with a\n",
    "given list of elements). For this phase, we use a Debye–Hückel activity model.\n",
    "See code below:"
   ]
  },
  {
   "cell_type": "code",
   "execution_count": 54,
   "metadata": {},
   "outputs": [],
   "source": [
    "import reaktoro as rkt\n",
    "import numpy as np\n",
    "\n",
    "db = rkt.SupcrtDatabase(\"supcrtbl\")\n",
    "\n",
    "solution = rkt.AqueousPhase(\"H2O(aq) H+ OH- HCO3- CO2(aq) CO3-2\")\n",
    "solution.setActivityModel(rkt.ActivityModelDebyeHuckel())\n",
    "\n",
    "system = rkt.ChemicalSystem(db, solution)"
   ]
  },
  {
   "cell_type": "markdown",
   "metadata": {},
   "source": [
    "We want to perform a chemical equilibrium calculation in which the following are constrained:\n",
    "\n",
    "* temperature;\n",
    "* pressure; and\n",
    "* pH;\n",
    "\n",
    "Let's create a dedicated and optimized chemical equilibrium solver to deal with\n",
    "these types of problems. First, we create an object of class\n",
    "`EquilibriumSpecs`, which we use to provide the equilibrium specifications for\n",
    "our solver later on:"
   ]
  },
  {
   "cell_type": "code",
   "execution_count": 55,
   "metadata": {},
   "outputs": [],
   "source": [
    "specs = rkt.EquilibriumSpecs(system)\n",
    "specs.temperature()\n",
    "specs.pressure()\n",
    "specs.pH()"
   ]
  },
  {
   "cell_type": "markdown",
   "metadata": {},
   "source": [
    "Once we have created this specifications object, we can now create our\n",
    "equilibrium solver:"
   ]
  },
  {
   "cell_type": "code",
   "execution_count": 56,
   "metadata": {},
   "outputs": [],
   "source": [
    "solver = rkt.EquilibriumSolver(specs)"
   ]
  },
  {
   "cell_type": "markdown",
   "metadata": {},
   "source": [
    "Let's now create an initial chemical state for our chemical system:"
   ]
  },
  {
   "cell_type": "code",
   "execution_count": 57,
   "metadata": {},
   "outputs": [],
   "source": [
    "state = rkt.ChemicalState(system)\n",
    "state.temperature(30.0, \"celsius\")\n",
    "state.pressure(1.0, \"bar\")\n",
    "state.set(\"H2O(aq)\", 1.0, \"kg\")\n",
    "state.set(\"CO2(aq)\", 0.1, \"mol\")"
   ]
  },
  {
   "cell_type": "markdown",
   "metadata": {},
   "source": [
    "Clearly, this state is not in chemical equilibrium. Before we equilibrate it\n",
    "with our equilibrium solver, let's create a copy of the vector of element\n",
    "amounts in this state, which we call `b0` below. We do this because we will\n",
    "compare the amounts of each element before and after equilibration, in which\n",
    "temperature, pressure and pH are prescribed."
   ]
  },
  {
   "cell_type": "code",
   "execution_count": 58,
   "metadata": {},
   "outputs": [],
   "source": [
    "b0 = state.elementAmounts().asarray()"
   ]
  },
  {
   "cell_type": "markdown",
   "metadata": {},
   "source": [
    "Let's now define the temperature, pressure and pH conditions we want to impose\n",
    "at equilibrium for this aqueous solution currently in disequilibrium. We do\n",
    "this by using an object of class `EquilibriumConditions`:"
   ]
  },
  {
   "cell_type": "code",
   "execution_count": 59,
   "metadata": {},
   "outputs": [],
   "source": [
    "conditions = rkt.EquilibriumConditions(specs)\n",
    "conditions.temperature(50.0, \"celsius\")\n",
    "conditions.pressure(10.0, \"bar\")\n",
    "conditions.pH(2.0)"
   ]
  },
  {
   "cell_type": "markdown",
   "metadata": {},
   "source": [
    "We have everything we need now to perform the equilibrium calculation:\n",
    "\n",
    "* an equilibrium solver (the `solver` object of class `EquilibriumSolver`);\n",
    "* a chemical state to equilibrate (the `state` object of class `ChemicalState`); and\n",
    "* the conditions we are imposing for this equilibrium state (the `conditions`\n",
    "  object of class `EquilibriumConditions`).\n",
    "\n",
    "The code below will perform the equilibrium calculation and when it is\n",
    "finished, our `state` object will correspond to a chemical equilibrium state:"
   ]
  },
  {
   "cell_type": "code",
   "execution_count": 60,
   "metadata": {},
   "outputs": [],
   "source": [
    "result = solver.solve(state, conditions)"
   ]
  },
  {
   "cell_type": "markdown",
   "metadata": {},
   "source": [
    "It's always advisable to verify if the calculation succeeded:"
   ]
  },
  {
   "cell_type": "code",
   "execution_count": 61,
   "metadata": {},
   "outputs": [
    {
     "name": "stdout",
     "output_type": "stream",
     "text": [
      "Successful computation!\n"
     ]
    }
   ],
   "source": [
    "print(\"Successful computation!\" if result.optima.succeeded else \"Computation has failed!\")"
   ]
  },
  {
   "cell_type": "markdown",
   "metadata": {},
   "source": [
    "Let's check the computed chemical equilibrium state: "
   ]
  },
  {
   "cell_type": "code",
   "execution_count": 62,
   "metadata": {},
   "outputs": [
    {
     "name": "stdout",
     "output_type": "stream",
     "text": [
      "+-----------------+-------------+------+\n",
      "| Property        |       Value | Unit |\n",
      "+-----------------+-------------+------+\n",
      "| Temperature     |      323.15 |    K |\n",
      "| Pressure        |       1e+06 |   Pa |\n",
      "| Element Amount: |             |      |\n",
      "| :: H            |     111.028 |  mol |\n",
      "| :: C            |         0.1 |  mol |\n",
      "| :: O            |     55.7084 |  mol |\n",
      "| Species Amount: |             |      |\n",
      "| :: H2O(aq)      |     55.5084 |  mol |\n",
      "| :: H+           |   0.0106512 |  mol |\n",
      "| :: OH-          | 5.78215e-12 |  mol |\n",
      "| :: HCO3-        | 5.81221e-06 |  mol |\n",
      "| :: CO2(aq)      |   0.0999942 |  mol |\n",
      "| :: CO3-2        | 4.88085e-14 |  mol |\n",
      "+-----------------+-------------+------+\n"
     ]
    }
   ],
   "source": [
    "print(state)"
   ]
  },
  {
   "cell_type": "markdown",
   "metadata": {},
   "source": [
    "Well, there is no pH in this table. This is because `ChemicalState` objects\n",
    "only store temperature, pressure, and species amounts. \n",
    "\n",
    "What we need now is an object of class `AqueousProps`. This class was designed\n",
    "for a more convenient inspection of thermodynamic and chemical properties\n",
    "related to aqueous solutions. Let's create an `AqueousProps` object and print\n",
    "it:"
   ]
  },
  {
   "cell_type": "code",
   "execution_count": 63,
   "metadata": {
    "tags": [
     "output_scroll"
    ]
   },
   "outputs": [
    {
     "name": "stdout",
     "output_type": "stream",
     "text": [
      "+--------------------------+-------------+-------+\n",
      "| Property                 |       Value |  Unit |\n",
      "+--------------------------+-------------+-------+\n",
      "| Temperature              |      323.15 |     K |\n",
      "| Pressure                 |       1e+06 |    Pa |\n",
      "| Ionic Strength (Effect.) |  0.00532849 | molal |\n",
      "| Ionic Strength (Stoich.) |  0.00532849 | molal |\n",
      "| pH                       |           2 |       |\n",
      "| pE                       |    -1.34155 |       |\n",
      "| Eh                       |  -0.0860201 |     V |\n",
      "| Element Molality:        |             |       |\n",
      "| :: C                     |         0.1 | molal |\n",
      "| Species Molality:        |             |       |\n",
      "| :: H+                    |   0.0106512 | molal |\n",
      "| :: OH-                   | 5.78216e-12 | molal |\n",
      "| :: HCO3-                 | 5.81222e-06 | molal |\n",
      "| :: CO2(aq)               |   0.0999943 | molal |\n",
      "| :: CO3-2                 | 4.88086e-14 | molal |\n",
      "+--------------------------+-------------+-------+\n"
     ]
    }
   ],
   "source": [
    "aprops = rkt.AqueousProps(state)\n",
    "print(aprops)"
   ]
  },
  {
   "cell_type": "markdown",
   "metadata": {},
   "source": [
    "Great! We can now see that pH is exactly 2, as we enforced, and temperature and\n",
    "pressure are 50 °C and 10 bar (but displayed in the table as 323.15 K and\n",
    "10<sup>6</sup> Pa respectively).\n",
    "\n",
    "Let's now compare the amounts of elements at equilibrium state with that at the\n",
    "initial state. "
   ]
  },
  {
   "cell_type": "code",
   "execution_count": 66,
   "metadata": {},
   "outputs": [
    {
     "name": "stdout",
     "output_type": "stream",
     "text": [
      "Δb[H] = 0.010645355059665462\n",
      "Δb[C] = 1.4155343563970746e-15\n",
      "Δb[O] = 7.105427357601002e-15\n"
     ]
    }
   ],
   "source": [
    "b = state.elementAmounts().asarray()\n",
    "\n",
    "for i, element in enumerate(system.elements()):\n",
    "    print(f\"Δb[{element.symbol()}] = {b[i] - b0[i]}\")"
   ]
  },
  {
   "cell_type": "markdown",
   "metadata": {},
   "source": [
    "While both elements C and O are numerically conserved (i.e., their final and\n",
    "initial amounts are equal up to machine precision, which is approximately\n",
    "1.11e-16), the same cannot be said about element H.\n",
    "\n",
    "This is because H should not be expected to be preserved in this particular\n",
    "equilibrium problem, because our chemical system is implicitly open to\n",
    "H<sup>+</sup>. It is not thermodynamically possible in general to impose,\n",
    "simultaneously, temperature, pressure, pH and conservation of all chemical\n",
    "elements and electric charge. \n",
    "\n",
    "To impose pH, we need to discard either temperature or pressure constraints, or\n",
    "make the system open to a substance. Because pH is not strongly sensitive to\n",
    "temperature and pressure changes, equilibrium calculations with fixed pH are\n",
    "usually done assuming that an unknown amount of a specified titrant (acid or\n",
    "base) is added into (or removed from) the system.\n",
    "\n",
    "```{note}\n",
    "The current implicit behavior in Reaktoro in which pH constraint presumes that\n",
    "the system is open to H<sup>+</sup> will be removed in the near future. We will\n",
    "instead have a more explicit approach in which pH constraints are specified\n",
    "together with a titrant for which the system is open to. \n",
    "\n",
    "Next time you check this tutorial, you may find that `specs.pH(\"H+\")` is needed\n",
    "instead of `specs.pH()` to achieve identical results we have now. \n",
    "\n",
    "This will more clearly specify that the system is open to H<sup>+</sup>. With\n",
    "this planned change, we'll even be able to specify other titrants, such as HCl,\n",
    "NaCl, CO2, etc., using the syntax `specs.pH(\"HCl\")`.\n",
    "```\n",
    "\n",
    "With this we conclude this tutorial. Stay tuned for an upcoming revision!"
   ]
  },
  {
   "cell_type": "markdown",
   "metadata": {},
   "source": []
  }
 ],
 "metadata": {
  "interpreter": {
   "hash": "e4e8b2f3ae27709963f14fd23a6560d362beea55eaec742263828e04d814e23c"
  },
  "kernelspec": {
   "display_name": "Python 3.9.7 64-bit ('reaktoro-jupyter-book': conda)",
   "name": "python3"
  },
  "language_info": {
   "codemirror_mode": {
    "name": "ipython",
    "version": 3
   },
   "file_extension": ".py",
   "mimetype": "text/x-python",
   "name": "python",
   "nbconvert_exporter": "python",
   "pygments_lexer": "ipython3",
   "version": "3.9.7"
  },
  "orig_nbformat": 4
 },
 "nbformat": 4,
 "nbformat_minor": 2
}
