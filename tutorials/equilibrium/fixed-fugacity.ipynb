{
 "cells": [
  {
   "cell_type": "markdown",
   "metadata": {},
   "source": [
    "# Chemical equilibrium with fixed fugacity"
   ]
  },
  {
   "cell_type": "markdown",
   "metadata": {},
   "source": [
    "This tutorial demonstrates the calculation of calcite (CaCO{{_3}}) solubility in a saline\n",
    "aqueous solution for given fugacity of CO{{_2}}. \n",
    "\n",
    "The code block below produces a chemical system containing an aqueous phase (to\n",
    "model our saline aqueous solution) and a solid mineral phase (to model our\n",
    "calcite mineral). "
   ]
  },
  {
   "cell_type": "code",
   "execution_count": 15,
   "metadata": {},
   "outputs": [],
   "source": [
    "import reaktoro as rkt\n",
    "\n",
    "db = rkt.PhreeqcDatabase(\"phreeqc.dat\")\n",
    "\n",
    "solution = rkt.AqueousPhase(rkt.speciate(\"H O Na Cl C Ca\"))\n",
    "solution.setActivityModel(rkt.ActivityModelHKF())\n",
    "\n",
    "calcite = rkt.MineralPhase(\"Calcite\")\n",
    "\n",
    "system = rkt.ChemicalSystem(db, solution, calcite)"
   ]
  },
  {
   "cell_type": "markdown",
   "metadata": {},
   "source": [
    "In this chemical equilibrium calculation, the following properties are\n",
    "constrained:\n",
    "\n",
    "* temperature;\n",
    "* pressure; and\n",
    "* fugacity of CO{{_2}};\n",
    "\n",
    "Because of the fugacity constraint, the chemical equilibrium calculation we\n",
    "will perform next presumes that the system is open to CO{{_2}}. During the\n",
    "calculation, enough CO{{_2}} is allowed to leave or enter the system so that\n",
    "the fugacity constraint is satisfied.\n",
    "\n",
    "The next step is to create an object of class `EquilibriumSpecs` containing the\n",
    "specifications for the chemical equilibrium calculation we want to perform."
   ]
  },
  {
   "cell_type": "code",
   "execution_count": 16,
   "metadata": {},
   "outputs": [],
   "source": [
    "specs = rkt.EquilibriumSpecs(system)\n",
    "specs.temperature()\n",
    "specs.pressure()\n",
    "specs.fugacity(\"CO2\")"
   ]
  },
  {
   "cell_type": "markdown",
   "metadata": {},
   "source": [
    "Once we have created this specifications object, we can now create our\n",
    "equilibrium solver:"
   ]
  },
  {
   "cell_type": "code",
   "execution_count": 17,
   "metadata": {},
   "outputs": [],
   "source": [
    "solver = rkt.EquilibriumSolver(specs)"
   ]
  },
  {
   "cell_type": "markdown",
   "metadata": {},
   "source": [
    "Let's now create an initial chemical state for our chemical system, one that represents a 1 molal NaCl aqueous solution mixed with 10 g of calcite mineral:"
   ]
  },
  {
   "cell_type": "code",
   "execution_count": 18,
   "metadata": {},
   "outputs": [],
   "source": [
    "state = rkt.ChemicalState(system)\n",
    "state.temperature(50.0, \"celsius\")\n",
    "state.pressure(10.0, \"bar\")\n",
    "state.set(\"H2O\", 1.0, \"kg\")\n",
    "state.set(\"Na+\", 1.0, \"mol\")\n",
    "state.set(\"Cl-\", 1.0, \"mol\")\n",
    "state.set(\"Calcite\", 10, \"g\")"
   ]
  },
  {
   "cell_type": "markdown",
   "metadata": {},
   "source": [
    "Note that this state is not yet in chemical equilibrium! The `state` object will be equilibrated later."
   ]
  },
  {
   "cell_type": "markdown",
   "metadata": {},
   "source": [
    "Let's now define the temperature, pressure and fugacity conditions we want to\n",
    "impose at equilibrium for this aqueous solution. We do this by using an object\n",
    "of class `EquilibriumConditions`:"
   ]
  },
  {
   "cell_type": "code",
   "execution_count": 19,
   "metadata": {},
   "outputs": [],
   "source": [
    "conditions = rkt.EquilibriumConditions(specs)\n",
    "conditions.temperature(50.0, \"celsius\")\n",
    "conditions.pressure(10.0, \"bar\")\n",
    "conditions.fugacity(\"CO2\", 1.0, \"bar\")"
   ]
  },
  {
   "cell_type": "markdown",
   "metadata": {},
   "source": [
    "We have everything we need now to perform the equilibrium calculation:\n",
    "\n",
    "* an equilibrium solver (the `solver` object of class `EquilibriumSolver`);\n",
    "* a chemical state to equilibrate (the `state` object of class `ChemicalState`); and\n",
    "* the conditions we are imposing for this equilibrium state (the `conditions`\n",
    "  object of class `EquilibriumConditions`).\n",
    "\n",
    "The code below will perform the equilibrium calculation and when it is\n",
    "finished, our `state` object will be in a chemical equilibrium state:"
   ]
  },
  {
   "cell_type": "code",
   "execution_count": 20,
   "metadata": {},
   "outputs": [],
   "source": [
    "result = solver.solve(state, conditions)"
   ]
  },
  {
   "cell_type": "markdown",
   "metadata": {},
   "source": [
    "It's always advisable to verify if the calculation succeeded:"
   ]
  },
  {
   "cell_type": "code",
   "execution_count": 21,
   "metadata": {},
   "outputs": [
    {
     "name": "stdout",
     "output_type": "stream",
     "text": [
      "Successful computation!\n"
     ]
    }
   ],
   "source": [
    "print(\"Successful computation!\" if result.optima.succeeded else \"Computation has failed!\")"
   ]
  },
  {
   "cell_type": "markdown",
   "metadata": {},
   "source": [
    "Let's check the computed chemical equilibrium state: "
   ]
  },
  {
   "cell_type": "code",
   "execution_count": 22,
   "metadata": {},
   "outputs": [
    {
     "name": "stdout",
     "output_type": "stream",
     "text": [
      "+-----------------+-------------+------+\n",
      "| Property        |       Value | Unit |\n",
      "+-----------------+-------------+------+\n",
      "| Temperature     |      323.15 |    K |\n",
      "| Pressure        |       1e+06 |   Pa |\n",
      "| Element Amount: |             |      |\n",
      "| :: H            |     111.012 |  mol |\n",
      "| :: C            |    0.127204 |  mol |\n",
      "| :: O            |     55.8605 |  mol |\n",
      "| :: Na           |           1 |  mol |\n",
      "| :: Cl           |           1 |  mol |\n",
      "| :: Ca           |    0.099909 |  mol |\n",
      "| Species Amount: |             |      |\n",
      "| :: CO3-2        | 7.48007e-06 |  mol |\n",
      "| :: H+           | 1.15634e-06 |  mol |\n",
      "| :: H2O          |     55.4941 |  mol |\n",
      "| :: CO2          |   0.0151464 |  mol |\n",
      "| :: (CO2)2       |       1e-16 |  mol |\n",
      "| :: HCO3-        |   0.0203079 |  mol |\n",
      "| :: CH4          |       1e-16 |  mol |\n",
      "| :: Ca+2         |   0.0116215 |  mol |\n",
      "| :: CaCO3        | 5.67868e-06 |  mol |\n",
      "| :: CaHCO3+      | 0.000604289 |  mol |\n",
      "| :: CaOH+        | 6.19407e-10 |  mol |\n",
      "| :: Cl-          |           1 |  mol |\n",
      "| :: H2           |       1e-16 |  mol |\n",
      "| :: Na+          |    0.996546 |  mol |\n",
      "| :: NaCO3-       | 7.11736e-05 |  mol |\n",
      "| :: NaHCO3       |  0.00338312 |  mol |\n",
      "| :: OH-          | 1.03073e-07 |  mol |\n",
      "| :: NaOH         |       1e-16 |  mol |\n",
      "| :: O2           |       1e-16 |  mol |\n",
      "| :: Calcite      |   0.0876775 |  mol |\n",
      "+-----------------+-------------+------+\n"
     ]
    }
   ],
   "source": [
    "print(state)"
   ]
  },
  {
   "cell_type": "markdown",
   "metadata": {},
   "source": [
    "Well, there is no pH in this table. This is because `ChemicalState` objects\n",
    "only store temperature, pressure, and species amounts. \n",
    "\n",
    "What we need now is an object of class `AqueousProps`. This class was designed\n",
    "for a more convenient inspection of thermodynamic and chemical properties\n",
    "related to aqueous solutions. Let's create an `AqueousProps` object and print\n",
    "it:"
   ]
  },
  {
   "cell_type": "code",
   "execution_count": 23,
   "metadata": {
    "tags": [
     "output_scroll"
    ]
   },
   "outputs": [
    {
     "name": "stdout",
     "output_type": "stream",
     "text": [
      "+--------------------------+-------------+-------+\n",
      "| Property                 |       Value |  Unit |\n",
      "+--------------------------+-------------+-------+\n",
      "| Temperature              |      323.15 |     K |\n",
      "| Pressure                 |       1e+06 |    Pa |\n",
      "| Ionic Strength (Effect.) |     1.03229 | molal |\n",
      "| Ionic Strength (Stoich.) |      1.0357 | molal |\n",
      "| pH                       |      6.1347 |       |\n",
      "| pE                       |     1.71539 |       |\n",
      "| Eh                       |    0.109991 |     V |\n",
      "| Element Molality:        |             |       |\n",
      "| :: C                     |   0.0395363 | molal |\n",
      "| :: Na                    |     1.00026 | molal |\n",
      "| :: Cl                    |     1.00026 | molal |\n",
      "| :: Ca                    |   0.0122346 | molal |\n",
      "| Species Molality:        |             |       |\n",
      "| :: CO3-2                 | 7.48201e-06 | molal |\n",
      "| :: H+                    | 1.15664e-06 | molal |\n",
      "| :: CO2                   |   0.0151504 | molal |\n",
      "| :: (CO2)2                | 1.00026e-16 | molal |\n",
      "| :: HCO3-                 |   0.0203131 | molal |\n",
      "| :: CH4                   | 1.00026e-16 | molal |\n",
      "| :: Ca+2                  |   0.0116245 | molal |\n",
      "| :: CaCO3                 | 5.68016e-06 | molal |\n",
      "| :: CaHCO3+               | 0.000604445 | molal |\n",
      "| :: CaOH+                 | 6.19568e-10 | molal |\n",
      "| :: Cl-                   |     1.00026 | molal |\n",
      "| :: H2                    | 1.00026e-16 | molal |\n",
      "| :: Na+                   |    0.996804 | molal |\n",
      "| :: NaCO3-                | 7.11921e-05 | molal |\n",
      "| :: NaHCO3                |    0.003384 | molal |\n",
      "| :: OH-                   | 1.03099e-07 | molal |\n",
      "| :: NaOH                  | 1.00026e-16 | molal |\n",
      "| :: O2                    | 1.00026e-16 | molal |\n",
      "+--------------------------+-------------+-------+\n"
     ]
    }
   ],
   "source": [
    "aprops = rkt.AqueousProps(state)\n",
    "print(aprops)"
   ]
  },
  {
   "cell_type": "markdown",
   "metadata": {},
   "source": [
    "Great! We can now see that pH is exactly 2, as we enforced, and temperature and\n",
    "pressure are 50 °C and 10 bar (but displayed in the table as 323.15 K and\n",
    "10<sup>6</sup> Pa respectively).\n",
    "\n",
    "Let's now compare the amounts of elements at equilibrium state with that at the\n",
    "initial state. "
   ]
  },
  {
   "cell_type": "markdown",
   "metadata": {},
   "source": [
    "While both elements C and O are numerically conserved (i.e., their final and\n",
    "initial amounts are equal up to machine precision, which is approximately\n",
    "1.11e-16), the same cannot be said about element H.\n",
    "\n",
    "This is because H should not be expected to be preserved in this particular\n",
    "equilibrium problem, because our chemical system is implicitly open to\n",
    "H<sup>+</sup>. It is not thermodynamically possible in general to impose,\n",
    "simultaneously, temperature, pressure, pH and conservation of all chemical\n",
    "elements and electric charge. \n",
    "\n",
    "To impose pH, we need to discard either temperature or pressure constraints, or\n",
    "make the system open to a substance. Because pH is not strongly sensitive to\n",
    "temperature and pressure changes, equilibrium calculations with fixed pH are\n",
    "usually done assuming that an unknown amount of a specified titrant (acid or\n",
    "base) is added into (or removed from) the system.\n",
    "\n",
    "```{note}\n",
    "The current implicit behavior in Reaktoro in which pH constraint presumes that\n",
    "the system is open to H<sup>+</sup> will be removed in the near future. We will\n",
    "instead have a more explicit approach in which pH constraints are specified\n",
    "together with a titrant for which the system is open to. \n",
    "\n",
    "Next time you check this tutorial, you may find that `specs.pH(\"H+\")` is needed\n",
    "instead of `specs.pH()` to achieve identical results we have now. \n",
    "\n",
    "This will more clearly specify that the system is open to H<sup>+</sup>. With\n",
    "this planned change, we'll even be able to specify other titrants, such as HCl,\n",
    "NaCl, CO2, etc., using the syntax `specs.pH(\"HCl\")`.\n",
    "```\n",
    "\n",
    "With this we conclude this tutorial. Stay tuned for an upcoming revision!"
   ]
  }
 ],
 "metadata": {
  "interpreter": {
   "hash": "e4e8b2f3ae27709963f14fd23a6560d362beea55eaec742263828e04d814e23c"
  },
  "kernelspec": {
   "display_name": "Python 3.9.7 64-bit ('reaktoro-jupyter-book': conda)",
   "name": "python3"
  },
  "language_info": {
   "codemirror_mode": {
    "name": "ipython",
    "version": 3
   },
   "file_extension": ".py",
   "mimetype": "text/x-python",
   "name": "python",
   "nbconvert_exporter": "python",
   "pygments_lexer": "ipython3",
   "version": "3.9.7"
  },
  "orig_nbformat": 4
 },
 "nbformat": 4,
 "nbformat_minor": 2
}
